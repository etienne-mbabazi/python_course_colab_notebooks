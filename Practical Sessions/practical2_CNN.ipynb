{
  "cells": [
    {
      "cell_type": "markdown",
      "metadata": {
        "id": "H_5rDuRY7PAV"
      },
      "source": [
        "# PyTorch Computer Vision Tutorial\n",
        "\n",
        "\n",
        "This notebook covers:\n",
        "- Loading and visualizing the MNIST dataset\n",
        "- Training a simple Multi-Layer Perceptron (MLP)\n",
        "- Training a Convolutional Neural Network (CNN)\n",
        "- A mini data-challenge on FashionMNIST\n",
        "\n",
        "## 1. Loading MNIST Dataset\n",
        "\n",
        "### MNIST Dataset  \n",
        "\n",
        "The **MNIST (Modified National Institute of Standards and Technology)** dataset is a collection of **70,000 grayscale images** of handwritten digits from **0 to 9**, commonly used for training and benchmarking machine learning models in image classification.  \n",
        "\n",
        "#### Key Features:  \n",
        "- **60,000 training images** and **10,000 test images**  \n",
        "- Each image is **28×28 pixels** in size  \n",
        "- Pixel values range from **0 (black) to 255 (white)**  \n",
        "- Labels correspond to the digit (0–9) present in the image\n",
        "\n",
        "\n",
        "### To get access to GPUs: [![Open In Colab](https://colab.research.google.com/assets/colab-badge.svg)](https://colab.research.google.com/github/rmenegaux/Intro-to-Neural-Nets-AIMS-2025/blob/main/Practical%20Sessions/practical2_CNN.ipynb)\n"
      ]
    },
    {
      "cell_type": "code",
      "execution_count": 2,
      "metadata": {
        "id": "93Zx8ZtO7PAX",
        "outputId": "d28a5c27-a8c3-4d70-a79f-c0fc8d128bc5",
        "colab": {
          "base_uri": "https://localhost:8080/",
          "height": 326
        }
      },
      "outputs": [
        {
          "output_type": "display_data",
          "data": {
            "text/plain": [
              "<Figure size 1200x400 with 16 Axes>"
            ],
            "image/png": "[encoded data removed]"
          },
          "metadata": {}
        }
      ],
      "source": [
        "import torch\n",
        "import torchvision\n",
        "import torchvision.transforms as transforms\n",
        "import matplotlib.pyplot as plt\n",
        "\n",
        "# Define a transform to normalize the dataset and convert it to tensors\n",
        "transform = transforms.Compose([transforms.ToTensor()])\n",
        "\n",
        "# Load the MNIST training dataset\n",
        "train_dataset = torchvision.datasets.MNIST(root='./data', train=True, download=True, transform=transform)\n",
        "\n",
        "# Create a DataLoader for easy batch processing\n",
        "train_loader = torch.utils.data.DataLoader(train_dataset, batch_size=16, shuffle=True)\n",
        "\n",
        "# Load the test dataset\n",
        "test_dataset = torchvision.datasets.MNIST(root=\"./data\", train=False, transform=transform, download=True)\n",
        "\n",
        "# Get a batch of images and labels\n",
        "images, labels = next(iter(train_loader))\n",
        "\n",
        "# Plot some sample images\n",
        "fig, axes = plt.subplots(2, 8, figsize=(12, 4))\n",
        "for i, ax in enumerate(axes.flat):\n",
        "    ax.imshow(images[i].squeeze(), cmap='gray')\n",
        "    ax.set_title(f'Label: {labels[i].item()}')\n",
        "    ax.axis('off')\n",
        "\n",
        "plt.show()"
      ]
    },
    {
      "cell_type": "markdown",
      "metadata": {
        "id": "BllxBd8B7PAY"
      },
      "source": [
        "### Manipulating data in PyTorch  \n",
        "\n",
        "In the code above, we used a `DataLoader` to load batches of images from the MNIST dataset efficiently.\n",
        "```python\n",
        "train_loader = torch.utils.data.DataLoader(train_dataset, batch_size=16, shuffle=True)\n",
        "```\n",
        "\n",
        "A [`DataLoader`](https://pytorch.org/docs/stable/data.html#torch.utils.data.DataLoader) is a PyTorch utility that helps **manage large datasets** by handling:  \n",
        "- **Batching**: Instead of loading one sample at a time, it loads multiple samples together, improving training efficiency.  \n",
        "- **Shuffling**: It randomly shuffles the dataset at each epoch, helping the model generalize better.  \n",
        "- **Parallel Loading**: It allows multiple workers to load data in parallel, speeding up training.\n",
        "\n",
        "In the example above, one _iteration_ from the dataloader returns a batch of 16 images and their labels"
      ]
    },
    {
      "cell_type": "markdown",
      "metadata": {
        "id": "8CHHE5zG7PAY"
      },
      "source": [
        "I.1. First try with an MLP\n",
        "---\n",
        "\n",
        "As a baseline model, we first implement a fully-connected network.\n",
        "### **1. Define the MLP Network**  \n",
        "1. **Define the Model**  \n",
        "   - We flatten the **28×28** images into **1D vectors**.  \n",
        "   - The network has **two hidden layers** with **ReLU activations**.  \n",
        "   - The final layer outputs **logits for 10 classes**."
      ]
    },
    {
      "cell_type": "code",
      "execution_count": null,
      "metadata": {
        "id": "Q0TFGTto7PAY"
      },
      "outputs": [],
      "source": [
        "import torch.nn as nn\n",
        "\n",
        "# Define the MLP model\n",
        "class MLP(nn.Module):\n",
        "    def __init__(self):\n",
        "        super(MLP, self).__init__()\n",
        "        # TODO: fill in the dimensions of the linear layers, and the flattening\n",
        "        self.fc1 = nn.Linear(...)  # First hidden layer\n",
        "        self.relu1 = nn.ReLU()\n",
        "        self.fc2 = nn.Linear(...)  # Second hidden layer\n",
        "        self.relu2 = nn.ReLU()\n",
        "        self.fc3 = nn.Linear(...)  # Output layer\n",
        "\n",
        "    def forward(self, x):\n",
        "        x = ...  # Flatten 28x28 images into vectors\n",
        "        x = self.relu1(self.fc1(x))\n",
        "        x = self.relu2(self.fc2(x))\n",
        "        x = self.fc3(x)  # No activation (logits output)\n",
        "        return x\n",
        "\n",
        "# Initialize model, loss function, and optimizer\n",
        "device = torch.device(\"cuda\" if torch.cuda.is_available() else \"cpu\")\n",
        "mlp_model = MLP().to(device)\n",
        "\n",
        "print(mlp_model)"
      ]
    },
    {
      "cell_type": "code",
      "source": [
        "import torch\n",
        "import torch.nn as nn\n",
        "\n",
        "# Define the MLP model\n",
        "class MLP(nn.Module):\n",
        "    def __init__(self):\n",
        "        super(MLP, self).__init__()\n",
        "        # Input size is 28*28=784 (MNIST images), hidden layers with 512 and 256 units, output 10 classes\n",
        "        self.fc1 = nn.Linear(28*28, 512)  # First hidden layer\n",
        "        self.relu1 = nn.ReLU()\n",
        "        self.fc2 = nn.Linear(512, 256)    # Second hidden layer\n",
        "        self.relu2 = nn.ReLU()\n",
        "        self.fc3 = nn.Linear(256, 10)     # Output layer\n",
        "\n",
        "    def forward(self, x):\n",
        "        x = x.view(-1, 28*28)  # Flatten 28x28 images into vectors\n",
        "        x = self.relu1(self.fc1(x))\n",
        "        x = self.relu2(self.fc2(x))\n",
        "        x = self.fc3(x)  # No activation (logits output)\n",
        "        return x\n",
        "\n",
        "# Initialize model, loss function, and optimizer\n",
        "device = torch.device(\"cuda\" if torch.cuda.is_available() else \"cpu\")\n",
        "mlp_model = MLP().to(device)\n",
        "\n",
        "print(mlp_model)"
      ],
      "metadata": {
        "id": "flSOpXFC8pUJ",
        "outputId": "77a3ad9d-6ff0-46de-dcd8-b2c6e848f764",
        "colab": {
          "base_uri": "https://localhost:8080/"
        }
      },
      "execution_count": 3,
      "outputs": [
        {
          "output_type": "stream",
          "name": "stdout",
          "text": [
            "MLP(\n",
            "  (fc1): Linear(in_features=784, out_features=512, bias=True)\n",
            "  (relu1): ReLU()\n",
            "  (fc2): Linear(in_features=512, out_features=256, bias=True)\n",
            "  (relu2): ReLU()\n",
            "  (fc3): Linear(in_features=256, out_features=10, bias=True)\n",
            ")\n"
          ]
        }
      ]
    },
    {
      "cell_type": "markdown",
      "metadata": {
        "id": "8uEDSI6M7PAZ"
      },
      "source": [
        "### 2. Training the network\n",
        "- 2.a. Define the training **optimizer** and the **loss function**\n",
        "\n",
        "- 2.b. Implement the **training loop**\n",
        "   - Each batch goes through a **forward pass**.  \n",
        "   - We compute the **Cross-Entropy Loss**.  \n",
        "   - Use **backpropagation** to compute gradients.  \n",
        "   - Update model parameters using **Adam optimizer**."
      ]
    },
    {
      "cell_type": "code",
      "source": [
        "# Load MNIST dataset\n",
        "train_loader = torch.utils.data.DataLoader(train_dataset, batch_size=16, shuffle=True)\n",
        "\n",
        "# Define the loss function and the optimizer\n",
        "criterion = nn.CrossEntropyLoss()  # Loss function for classification\n",
        "optimizer = torch.optim.Adam(mlp_model.parameters(), lr=0.001)  # Adam optimizer with learning rate 0.001\n",
        "\n",
        "# Training loop\n",
        "num_epochs = 5\n",
        "def train(model, optimizer, train_loader, num_epochs=1):\n",
        "    for epoch in range(num_epochs):\n",
        "        model.train()  # Set model to training mode\n",
        "        running_loss = 0.0\n",
        "\n",
        "        for images, labels in train_loader:\n",
        "            # Transfer data to model device (if it is on GPU)\n",
        "            images, labels = images.to(device), labels.to(device)\n",
        "\n",
        "            # Perform the forward pass, backward pass and parameter updates\n",
        "            # Forward pass\n",
        "            outputs = model(images)\n",
        "            loss = criterion(outputs, labels)\n",
        "\n",
        "            # Backpropagation\n",
        "            optimizer.zero_grad()  # Reset gradients\n",
        "            loss.backward()        # Compute gradients\n",
        "            optimizer.step()       # Update weights\n",
        "\n",
        "            running_loss += loss.item()\n",
        "\n",
        "        print(f\"Epoch {epoch+1}, Loss: {running_loss/len(train_loader):.4f}\")\n",
        "\n",
        "train(mlp_model, optimizer, train_loader, num_epochs)"
      ],
      "metadata": {
        "id": "5p8XjAJ49b2c",
        "outputId": "cda0a158-cc75-4b92-c10d-84ef837def74",
        "colab": {
          "base_uri": "https://localhost:8080/"
        }
      },
      "execution_count": 4,
      "outputs": [
        {
          "output_type": "stream",
          "name": "stdout",
          "text": [
            "Epoch 1, Loss: 0.1943\n",
            "Epoch 2, Loss: 0.0845\n",
            "Epoch 3, Loss: 0.0617\n",
            "Epoch 4, Loss: 0.0478\n",
            "Epoch 5, Loss: 0.0400\n"
          ]
        }
      ]
    },
    {
      "cell_type": "markdown",
      "metadata": {
        "id": "SjmEDVfN7PAa"
      },
      "source": [
        "\n",
        "### **3. Evaluation and Error Analysis**  \n",
        "   - Compute **classification accuracy**.  \n",
        "   - Identify misclassified images.  \n",
        "   - **Plot 10 misclassified digits** with true & predicted labels."
      ]
    },
    {
      "cell_type": "code",
      "source": [
        "from torchvision import datasets, transforms\n",
        "\n",
        "# Define transformations (same as used for training)\n",
        "transform = transforms.Compose([\n",
        "    transforms.ToTensor(),\n",
        "    transforms.Normalize((0.1307,), (0.3081,))  # MNIST mean and std\n",
        "])\n",
        "\n",
        "# Load test dataset\n",
        "test_dataset = datasets.MNIST(\n",
        "    root='./data',\n",
        "    train=False,  # This loads the test set\n",
        "    download=True,\n",
        "    transform=transform\n",
        ")\n",
        "\n",
        "# Create test DataLoader\n",
        "test_loader = torch.utils.data.DataLoader(\n",
        "    test_dataset,\n",
        "    batch_size=16,\n",
        "    shuffle=False  # No need to shuffle for evaluation\n",
        ")\n",
        "\n",
        "# Now you can call evaluate()\n",
        "evaluate(mlp_model, test_loader)"
      ],
      "metadata": {
        "id": "-Sr0Wa9z-SjT",
        "outputId": "95eb5adf-85a2-4bdd-d2b8-ccb1c86e9908",
        "colab": {
          "base_uri": "https://localhost:8080/"
        }
      },
      "execution_count": 7,
      "outputs": [
        {
          "output_type": "stream",
          "name": "stdout",
          "text": [
            "Test Accuracy: 93.75%\n",
            "\n",
            "Classification Report:\n",
            "\n",
            "              precision    recall  f1-score   support\n",
            "\n",
            "           0      0.990     0.943     0.966       980\n",
            "           1      0.956     0.987     0.971      1135\n",
            "           2      0.990     0.890     0.937      1032\n",
            "           3      0.936     0.962     0.949      1010\n",
            "           4      0.842     0.989     0.910       982\n",
            "           5      0.886     0.964     0.923       892\n",
            "           6      0.972     0.937     0.954       958\n",
            "           7      0.915     0.974     0.943      1028\n",
            "           8      0.990     0.823     0.899       974\n",
            "           9      0.928     0.901     0.914      1009\n",
            "\n",
            "    accuracy                          0.938     10000\n",
            "   macro avg      0.941     0.937     0.937     10000\n",
            "weighted avg      0.941     0.938     0.937     10000\n",
            "\n"
          ]
        }
      ]
    },
    {
      "cell_type": "markdown",
      "metadata": {
        "id": "4YB8W6t07PAf"
      },
      "source": [
        "### **Next Step: Convolutional Neural Networks (CNNs)**\n",
        "Now that we've built an MLP, the next step is improving performance with a **CNN**, which can better capture spatial patterns in images! 🚀\n",
        "\n",
        "#### **What’s Different from MLP?**\n",
        "1. **Convolutional layers** (`Conv2d`) extract spatial features.\n",
        "2. **Pooling** (`MaxPool2d`) reduces spatial dimensions.\n",
        "3. **Fewer parameters** than a fully connected MLP while being more powerful.\n",
        "4. **Better generalization** due to weight sharing in convolutional layers.\n",
        "\n",
        "You can reuse the **training** and **evaluation** code as-is!"
      ]
    },
    {
      "cell_type": "markdown",
      "metadata": {
        "id": "VDMPFD787PAf"
      },
      "source": []
    },
    {
      "cell_type": "code",
      "source": [
        "############\n",
        "import torch.nn.functional as F\n",
        "\n",
        "class CNN(nn.Module):\n",
        "    def __init__(self):\n",
        "        super(CNN, self).__init__()\n",
        "\n",
        "        # Convolutional layers (for MNIST 28x28 grayscale images)\n",
        "        self.conv1 = nn.Conv2d(in_channels=1, out_channels=32, kernel_size=3, padding=1)  # preserves spatial dimensions\n",
        "        self.conv2 = nn.Conv2d(in_channels=32, out_channels=64, kernel_size=3, padding=1)\n",
        "        self.pool = nn.MaxPool2d(kernel_size=2, stride=2)  # 2x2 max pooling (halves dimensions)\n",
        "\n",
        "        # Fully connected layers\n",
        "        # After two pooling layers: 28x28 -> 14x14 -> 7x7\n",
        "        # Last conv output: 64 channels * 7x7 = 3136 features\n",
        "        self.fc1 = nn.Linear(64 * 7 * 7, 128)  # 3136 -> 128\n",
        "        self.fc2 = nn.Linear(128, 10)  # 128 -> 10 classes (MNIST digits 0-9)\n",
        "\n",
        "    def forward(self, x):\n",
        "        x = self.pool(F.relu(self.conv1(x)))  # Conv1 -> ReLU -> MaxPool\n",
        "        x = self.pool(F.relu(self.conv2(x)))  # Conv2 -> ReLU -> MaxPool\n",
        "        x = x.view(x.size(0), -1)  # Flatten (batch_size, 64*7*7)\n",
        "        x = F.relu(self.fc1(x))    # Fully connected layer with ReLU\n",
        "        x = self.fc2(x)            # Output logits (no activation)\n",
        "        return x\n",
        "\n",
        "# Instantiate model\n",
        "cnn_model = CNN().to(device)\n",
        "# Print model architecture\n",
        "print(cnn_model)"
      ],
      "metadata": {
        "id": "UDMlYVECBOJn",
        "outputId": "b39777ee-3dd6-4268-afa5-9c1554df018d",
        "colab": {
          "base_uri": "https://localhost:8080/"
        }
      },
      "execution_count": 8,
      "outputs": [
        {
          "output_type": "stream",
          "name": "stdout",
          "text": [
            "CNN(\n",
            "  (conv1): Conv2d(1, 32, kernel_size=(3, 3), stride=(1, 1), padding=(1, 1))\n",
            "  (conv2): Conv2d(32, 64, kernel_size=(3, 3), stride=(1, 1), padding=(1, 1))\n",
            "  (pool): MaxPool2d(kernel_size=2, stride=2, padding=0, dilation=1, ceil_mode=False)\n",
            "  (fc1): Linear(in_features=3136, out_features=128, bias=True)\n",
            "  (fc2): Linear(in_features=128, out_features=10, bias=True)\n",
            ")\n"
          ]
        }
      ]
    },
    {
      "cell_type": "code",
      "source": [
        "optimizer = torch.optim.Adam(cnn_model.parameters(), lr=0.001)\n",
        "\n",
        "# Training loop\n",
        "num_epochs = 5\n",
        "train(cnn_model, optimizer, train_loader, num_epochs)  # Fixed parameter order"
      ],
      "metadata": {
        "id": "Z9sjvEvwCg8K",
        "outputId": "4f380fd9-f4da-4c5f-bba5-38e2ba7a571c",
        "colab": {
          "base_uri": "https://localhost:8080/"
        }
      },
      "execution_count": 12,
      "outputs": [
        {
          "output_type": "stream",
          "name": "stdout",
          "text": [
            "Epoch 1, Loss: 0.1200\n",
            "Epoch 2, Loss: 0.0425\n",
            "Epoch 3, Loss: 0.0281\n",
            "Epoch 4, Loss: 0.0203\n",
            "Epoch 5, Loss: 0.0142\n"
          ]
        }
      ]
    },
    {
      "cell_type": "code",
      "execution_count": 13,
      "metadata": {
        "id": "eFt-nIlU7PAg",
        "outputId": "e69a107f-f505-4c1a-8b1f-7cc7209f7e61",
        "colab": {
          "base_uri": "https://localhost:8080/"
        }
      },
      "outputs": [
        {
          "output_type": "stream",
          "name": "stdout",
          "text": [
            "Test Accuracy: 99.11%\n",
            "\n",
            "Classification Report:\n",
            "\n",
            "              precision    recall  f1-score   support\n",
            "\n",
            "           0      0.994     0.997     0.995       980\n",
            "           1      0.994     0.998     0.996      1135\n",
            "           2      0.993     0.987     0.990      1032\n",
            "           3      0.987     0.994     0.991      1010\n",
            "           4      0.989     0.993     0.991       982\n",
            "           5      0.992     0.985     0.989       892\n",
            "           6      0.998     0.991     0.994       958\n",
            "           7      0.990     0.982     0.986      1028\n",
            "           8      0.988     0.994     0.991       974\n",
            "           9      0.986     0.988     0.987      1009\n",
            "\n",
            "    accuracy                          0.991     10000\n",
            "   macro avg      0.991     0.991     0.991     10000\n",
            "weighted avg      0.991     0.991     0.991     10000\n",
            "\n"
          ]
        }
      ],
      "source": [
        "evaluate(cnn_model, test_loader)"
      ]
    },
    {
      "cell_type": "markdown",
      "metadata": {
        "id": "427SL6kN7PAh"
      },
      "source": [
        "### **Simple Image Classification Challenge**  \n",
        "\n",
        "Try to get the best performance as possible on **Fashion-MNIST**, a dataset similar to MNIST but with images of clothing items instead of digits.  \n",
        "\n",
        "#### **Challenge: Classify Clothing Items from Fashion-MNIST**  \n",
        "\n",
        "**Dataset:**  \n",
        "- Fashion-MNIST contains **70,000 grayscale images** (60,000 train + 10,000 test).  \n",
        "- Each image is **28×28 pixels**, like MNIST.  \n",
        "- 10 classes:  \n",
        "  1. T-shirt/top  \n",
        "  2. Trouser  \n",
        "  3. Pullover  \n",
        "  4. Dress  \n",
        "  5. Coat  \n",
        "  6. Sandal  \n",
        "  7. Shirt  \n",
        "  8. Sneaker  \n",
        "  9. Bag  \n",
        "  10. Ankle boot  \n",
        "\n",
        "---\n",
        "\n",
        "#### **Tasks for Students**  \n",
        "\n",
        "1. **Load Fashion-MNIST** using `torchvision.datasets.FashionMNIST`.  \n",
        "2. **Baseline**: get a first baseline classification performance, with the previous MLP or CNN\n",
        "3. **Challenge**: Modify the model to improve accuracy.  \n",
        "   - Change the hyper-parameters\n",
        "   - Apply **data augmentation** (e.g., random flips, rotations).  \n",
        "\n",
        "Fashion-MNIST is slightly more challenging than MNIST because the images contain more complex patterns and textures. However, it is still relatively saturated —- MLPs can achieve ~89% accuracy, and CNNs can reach ~93-95%."
      ]
    },
    {
      "cell_type": "code",
      "source": [
        "import torch\n",
        "import torchvision\n",
        "import torchvision.transforms as transforms\n",
        "import matplotlib.pyplot as plt\n",
        "\n",
        "# Define transformation\n",
        "transform = transforms.Compose([transforms.ToTensor()])\n",
        "\n",
        "# Load dataset\n",
        "train_dataset = torchvision.datasets.FashionMNIST(root=\"./data\", train=True, download=True, transform=transform)\n",
        "test_dataset = torchvision.datasets.FashionMNIST(root=\"./data\", train=False, download=True, transform=transform)\n",
        "\n",
        "# Define train and test DataLoader\n",
        "train_loader = torch.utils.data.DataLoader(train_dataset, batch_size=32, shuffle=True)\n",
        "test_loader = torch.utils.data.DataLoader(test_dataset, batch_size=32, shuffle=False)\n",
        "\n",
        "# Class labels\n",
        "class_names = [\n",
        "    \"T-shirt/top\", \"Trouser\", \"Pullover\", \"Dress\", \"Coat\",\n",
        "    \"Sandal\", \"Shirt\", \"Sneaker\", \"Bag\", \"Ankle boot\"\n",
        "]\n",
        "\n",
        "# Visualize some sample images\n",
        "def show_images(dataset, num_images=9):\n",
        "    fig, axes = plt.subplots(3, 3, figsize=(6, 6))\n",
        "    for i, ax in enumerate(axes.flat):\n",
        "        image, label = dataset[i]\n",
        "        ax.imshow(image.squeeze(), cmap=\"gray\")\n",
        "        ax.set_title(class_names[label])\n",
        "        ax.axis(\"off\")\n",
        "    plt.show()\n",
        "\n",
        "show_images(train_dataset)"
      ],
      "metadata": {
        "id": "6GelaR8TGsNo",
        "outputId": "4a511930-03eb-43c0-c11a-8cbbe3570866",
        "colab": {
          "base_uri": "https://localhost:8080/",
          "height": 521
        }
      },
      "execution_count": 15,
      "outputs": [
        {
          "output_type": "display_data",
          "data": {
            "text/plain": [
              "<Figure size 600x600 with 9 Axes>"
            ],
            "image/png": "[encoded data removed]"
          },
          "metadata": {}
        }
      ]
    },
    {
      "cell_type": "code",
      "source": [
        "# Instantiate model\n",
        "model = nn.Sequential(\n",
        "    nn.Flatten(),\n",
        "    nn.Linear(28*28, 128),\n",
        "    nn.ReLU(),\n",
        "    nn.Linear(128, 10)\n",
        ").to(device)\n",
        "\n",
        "# Print model architecture\n",
        "print(model)\n",
        "\n",
        "# Choose optimizer\n",
        "optimizer = torch.optim.Adam(model.parameters(), lr=0.001)\n",
        "\n",
        "# Training loop\n",
        "num_epochs = 5\n",
        "train(model, optimizer, train_loader, num_epochs)  # Corrected parameter order\n",
        "evaluate(model, test_loader)"
      ],
      "metadata": {
        "id": "47u75m4WHuly",
        "outputId": "49020852-4dfd-41e5-c7cc-e24b967eb46b",
        "colab": {
          "base_uri": "https://localhost:8080/"
        }
      },
      "execution_count": 17,
      "outputs": [
        {
          "output_type": "stream",
          "name": "stdout",
          "text": [
            "Sequential(\n",
            "  (0): Flatten(start_dim=1, end_dim=-1)\n",
            "  (1): Linear(in_features=784, out_features=128, bias=True)\n",
            "  (2): ReLU()\n",
            "  (3): Linear(in_features=128, out_features=10, bias=True)\n",
            ")\n",
            "Epoch 1, Loss: 0.5174\n",
            "Epoch 2, Loss: 0.3846\n",
            "Epoch 3, Loss: 0.3474\n",
            "Epoch 4, Loss: 0.3225\n",
            "Epoch 5, Loss: 0.3036\n",
            "Test Accuracy: 87.82%\n",
            "\n",
            "Classification Report:\n",
            "\n",
            "              precision    recall  f1-score   support\n",
            "\n",
            "           0      0.801     0.856     0.827      1000\n",
            "           1      0.990     0.971     0.980      1000\n",
            "           2      0.784     0.810     0.797      1000\n",
            "           3      0.883     0.893     0.888      1000\n",
            "           4      0.775     0.803     0.789      1000\n",
            "           5      0.982     0.943     0.962      1000\n",
            "           6      0.722     0.631     0.673      1000\n",
            "           7      0.901     0.974     0.936      1000\n",
            "           8      0.973     0.968     0.970      1000\n",
            "           9      0.972     0.933     0.952      1000\n",
            "\n",
            "    accuracy                          0.878     10000\n",
            "   macro avg      0.878     0.878     0.878     10000\n",
            "weighted avg      0.878     0.878     0.878     10000\n",
            "\n"
          ]
        }
      ]
    }
  ],
  "metadata": {
    "kernelspec": {
      "display_name": "pyg",
      "language": "python",
      "name": "python3"
    },
    "language_info": {
      "codemirror_mode": {
        "name": "ipython",
        "version": 3
      },
      "file_extension": ".py",
      "mimetype": "text/x-python",
      "name": "python",
      "nbconvert_exporter": "python",
      "pygments_lexer": "ipython3",
      "version": "3.9.7"
    },
    "colab": {
      "provenance": []
    }
  },
  "nbformat": 4,
  "nbformat_minor": 0
}